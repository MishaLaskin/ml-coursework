{
 "cells": [
  {
   "cell_type": "markdown",
   "metadata": {
    "tags": [
     "pdf-title"
    ]
   },
   "source": [
    "# Softmax exercise\n",
    "\n",
    "*Complete and hand in this completed worksheet (including its outputs and any supporting code outside of the worksheet) with your assignment submission. For more details see the [assignments page](http://vision.stanford.edu/teaching/cs231n/assignments.html) on the course website.*\n",
    "\n",
    "This exercise is analogous to the SVM exercise. You will:\n",
    "\n",
    "- implement a fully-vectorized **loss function** for the Softmax classifier\n",
    "- implement the fully-vectorized expression for its **analytic gradient**\n",
    "- **check your implementation** with numerical gradient\n",
    "- use a validation set to **tune the learning rate and regularization** strength\n",
    "- **optimize** the loss function with **SGD**\n",
    "- **visualize** the final learned weights\n"
   ]
  },
  {
   "cell_type": "code",
   "execution_count": 1,
   "metadata": {
    "tags": [
     "pdf-ignore"
    ]
   },
   "outputs": [],
   "source": [
    "import random\n",
    "import numpy as np\n",
    "from cs231n.data_utils import load_CIFAR10\n",
    "import matplotlib.pyplot as plt\n",
    "\n",
    "%matplotlib inline\n",
    "plt.rcParams['figure.figsize'] = (10.0, 8.0) # set default size of plots\n",
    "plt.rcParams['image.interpolation'] = 'nearest'\n",
    "plt.rcParams['image.cmap'] = 'gray'\n",
    "\n",
    "# for auto-reloading extenrnal modules\n",
    "# see http://stackoverflow.com/questions/1907993/autoreload-of-modules-in-ipython\n",
    "%load_ext autoreload\n",
    "%autoreload 2"
   ]
  },
  {
   "cell_type": "code",
   "execution_count": 2,
   "metadata": {
    "tags": [
     "pdf-ignore"
    ]
   },
   "outputs": [
    {
     "name": "stdout",
     "output_type": "stream",
     "text": [
      "Train data shape:  (49000, 3073)\n",
      "Train labels shape:  (49000,)\n",
      "Validation data shape:  (1000, 3073)\n",
      "Validation labels shape:  (1000,)\n",
      "Test data shape:  (1000, 3073)\n",
      "Test labels shape:  (1000,)\n",
      "dev data shape:  (500, 3073)\n",
      "dev labels shape:  (500,)\n"
     ]
    }
   ],
   "source": [
    "def get_CIFAR10_data(num_training=49000, num_validation=1000, num_test=1000, num_dev=500):\n",
    "    \"\"\"\n",
    "    Load the CIFAR-10 dataset from disk and perform preprocessing to prepare\n",
    "    it for the linear classifier. These are the same steps as we used for the\n",
    "    SVM, but condensed to a single function.  \n",
    "    \"\"\"\n",
    "    # Load the raw CIFAR-10 data\n",
    "    cifar10_dir = 'cs231n/datasets/cifar-10-batches-py'\n",
    "    \n",
    "    # Cleaning up variables to prevent loading data multiple times (which may cause memory issue)\n",
    "    try:\n",
    "        del X_train, y_train\n",
    "        del X_test, y_test\n",
    "        print('Clear previously loaded data.')\n",
    "    except:\n",
    "        pass\n",
    "\n",
    "    X_train, y_train, X_test, y_test = load_CIFAR10(cifar10_dir)\n",
    "    \n",
    "    # subsample the data\n",
    "    mask = list(range(num_training, num_training + num_validation))\n",
    "    X_val = X_train[mask]\n",
    "    y_val = y_train[mask]\n",
    "    mask = list(range(num_training))\n",
    "    X_train = X_train[mask]\n",
    "    y_train = y_train[mask]\n",
    "    mask = list(range(num_test))\n",
    "    X_test = X_test[mask]\n",
    "    y_test = y_test[mask]\n",
    "    mask = np.random.choice(num_training, num_dev, replace=False)\n",
    "    X_dev = X_train[mask]\n",
    "    y_dev = y_train[mask]\n",
    "    \n",
    "    # Preprocessing: reshape the image data into rows\n",
    "    X_train = np.reshape(X_train, (X_train.shape[0], -1))\n",
    "    X_val = np.reshape(X_val, (X_val.shape[0], -1))\n",
    "    X_test = np.reshape(X_test, (X_test.shape[0], -1))\n",
    "    X_dev = np.reshape(X_dev, (X_dev.shape[0], -1))\n",
    "    \n",
    "    # Normalize the data: subtract the mean image\n",
    "    mean_image = np.mean(X_train, axis = 0)\n",
    "    X_train -= mean_image\n",
    "    X_val -= mean_image\n",
    "    X_test -= mean_image\n",
    "    X_dev -= mean_image\n",
    "    \n",
    "    # add bias dimension and transform into columns\n",
    "    X_train = np.hstack([X_train, np.ones((X_train.shape[0], 1))])\n",
    "    X_val = np.hstack([X_val, np.ones((X_val.shape[0], 1))])\n",
    "    X_test = np.hstack([X_test, np.ones((X_test.shape[0], 1))])\n",
    "    X_dev = np.hstack([X_dev, np.ones((X_dev.shape[0], 1))])\n",
    "    \n",
    "    return X_train, y_train, X_val, y_val, X_test, y_test, X_dev, y_dev\n",
    "\n",
    "\n",
    "# Invoke the above function to get our data.\n",
    "X_train, y_train, X_val, y_val, X_test, y_test, X_dev, y_dev = get_CIFAR10_data()\n",
    "print('Train data shape: ', X_train.shape)\n",
    "print('Train labels shape: ', y_train.shape)\n",
    "print('Validation data shape: ', X_val.shape)\n",
    "print('Validation labels shape: ', y_val.shape)\n",
    "print('Test data shape: ', X_test.shape)\n",
    "print('Test labels shape: ', y_test.shape)\n",
    "print('dev data shape: ', X_dev.shape)\n",
    "print('dev labels shape: ', y_dev.shape)"
   ]
  },
  {
   "cell_type": "markdown",
   "metadata": {},
   "source": [
    "## Softmax Classifier\n",
    "\n",
    "Your code for this section will all be written inside **cs231n/classifiers/softmax.py**. \n"
   ]
  },
  {
   "cell_type": "code",
   "execution_count": 3,
   "metadata": {},
   "outputs": [
    {
     "name": "stdout",
     "output_type": "stream",
     "text": [
      "loss: 2.389797\n",
      "sanity check: 2.302585\n"
     ]
    }
   ],
   "source": [
    "# First implement the naive softmax loss function with nested loops.\n",
    "# Open the file cs231n/classifiers/softmax.py and implement the\n",
    "# softmax_loss_naive function.\n",
    "\n",
    "from cs231n.classifiers.softmax import softmax_loss_naive\n",
    "import time\n",
    "\n",
    "# Generate a random softmax weight matrix and use it to compute the loss.\n",
    "W = np.random.randn(3073, 10) * 0.0001\n",
    "loss, grad = softmax_loss_naive(W, X_dev, y_dev, 0.0)\n",
    "\n",
    "# As a rough sanity check, our loss should be something close to -log(0.1).\n",
    "print('loss: %f' % loss)\n",
    "print('sanity check: %f' % (-np.log(0.1)))"
   ]
  },
  {
   "cell_type": "markdown",
   "metadata": {
    "tags": [
     "pdf-inline"
    ]
   },
   "source": [
    "**Inline Question 1**\n",
    "\n",
    "Why do we expect our loss to be close to -log(0.1)? Explain briefly.**\n",
    "\n",
    "$\\color{blue}{\\textit Your Answer:}$ \n",
    "\n",
    "There are $N_c = 10$ classes in CIFAR. Suppose the weights are initialized randomly, so the classifier should roughly output the same probabilities for each class, so $p(j|x_i)\\approx 0.1$ for all $j=0,\\dots,9$. Therefore, the loss for a data point $x_i$ should read\n",
    "\n",
    "$$L_i = - \\log \\text{softmax} (s_{y_i}) \\approx - \\log( 0.1)$$\n",
    "\n",
    "where $s_j = W^T x_j$ and the total loss will be\n",
    "\n",
    "$$L = \\frac 1 N \\sum_i L_i \\approx - \\frac N N \\log (0.1) =  - \\log( 0.1)$$\n",
    "\n"
   ]
  },
  {
   "cell_type": "code",
   "execution_count": 4,
   "metadata": {},
   "outputs": [
    {
     "name": "stdout",
     "output_type": "stream",
     "text": [
      "numerical: -0.505380 analytic: -0.505380, relative error: 1.247659e-07\n",
      "numerical: -0.934342 analytic: -0.934342, relative error: 3.184023e-09\n",
      "numerical: -0.925614 analytic: -0.925613, relative error: 2.904258e-08\n",
      "numerical: 0.497995 analytic: 0.497994, relative error: 1.788500e-07\n",
      "numerical: -1.078485 analytic: -1.078485, relative error: 1.313965e-08\n",
      "numerical: 2.630819 analytic: 2.630819, relative error: 4.289767e-08\n",
      "numerical: 1.081551 analytic: 1.081550, relative error: 2.385983e-08\n",
      "numerical: 1.240785 analytic: 1.240785, relative error: 5.471377e-08\n",
      "numerical: -0.722417 analytic: -0.722417, relative error: 1.007317e-08\n",
      "numerical: -0.153687 analytic: -0.153687, relative error: 2.261047e-07\n",
      "numerical: -1.002633 analytic: -1.002904, relative error: 1.352880e-04\n",
      "numerical: 2.147332 analytic: 2.145893, relative error: 3.352643e-04\n",
      "numerical: 0.370576 analytic: 0.371304, relative error: 9.816318e-04\n",
      "numerical: -2.028737 analytic: -2.023501, relative error: 1.292087e-03\n",
      "numerical: 0.455534 analytic: 0.461799, relative error: 6.829138e-03\n",
      "numerical: -1.470887 analytic: -1.478953, relative error: 2.734615e-03\n",
      "numerical: 0.180968 analytic: 0.173183, relative error: 2.198362e-02\n",
      "numerical: -1.388393 analytic: -1.393045, relative error: 1.672610e-03\n",
      "numerical: 0.164220 analytic: 0.162708, relative error: 4.622953e-03\n",
      "numerical: 0.480745 analytic: 0.486832, relative error: 6.291677e-03\n"
     ]
    }
   ],
   "source": [
    "# Complete the implementation of softmax_loss_naive and implement a (naive)\n",
    "# version of the gradient that uses nested loops.\n",
    "loss, grad = softmax_loss_naive(W, X_dev, y_dev, 0.0)\n",
    "\n",
    "# As we did for the SVM, use numeric gradient checking as a debugging tool.\n",
    "# The numeric gradient should be close to the analytic gradient.\n",
    "from cs231n.gradient_check import grad_check_sparse\n",
    "f = lambda w: softmax_loss_naive(w, X_dev, y_dev, 0.0)[0]\n",
    "grad_numerical = grad_check_sparse(f, W, grad, 10)\n",
    "\n",
    "# similar to SVM case, do another gradient check with regularization\n",
    "loss, grad = softmax_loss_naive(W, X_dev, y_dev, 5e1)\n",
    "f = lambda w: softmax_loss_naive(w, X_dev, y_dev, 5e1)[0]\n",
    "grad_numerical = grad_check_sparse(f, W, grad, 10)"
   ]
  },
  {
   "cell_type": "code",
   "execution_count": 27,
   "metadata": {},
   "outputs": [
    {
     "name": "stdout",
     "output_type": "stream",
     "text": [
      "naive loss: 2.389797e+00 computed in 0.206534s\n",
      "vectorized loss: 2.389797e+00 computed in 0.006798s\n",
      "Loss difference: 0.000000\n",
      "Gradient difference: 0.000000\n"
     ]
    }
   ],
   "source": [
    "# Now that we have a naive implementation of the softmax loss function and its gradient,\n",
    "# implement a vectorized version in softmax_loss_vectorized.\n",
    "# The two versions should compute the same results, but the vectorized version should be\n",
    "# much faster.\n",
    "tic = time.time()\n",
    "loss_naive, grad_naive = softmax_loss_naive(W, X_dev, y_dev, 0.000005)\n",
    "toc = time.time()\n",
    "print('naive loss: %e computed in %fs' % (loss_naive, toc - tic))\n",
    "\n",
    "from cs231n.classifiers.softmax import softmax_loss_vectorized\n",
    "tic = time.time()\n",
    "loss_vectorized, grad_vectorized = softmax_loss_vectorized(W, X_dev, y_dev, 0.000005)\n",
    "toc = time.time()\n",
    "print('vectorized loss: %e computed in %fs' % (loss_vectorized, toc - tic))\n",
    "\n",
    "# As we did for the SVM, we use the Frobenius norm to compare the two versions\n",
    "# of the gradient.\n",
    "grad_difference = np.linalg.norm(grad_naive - grad_vectorized, ord='fro')\n",
    "print('Loss difference: %f' % np.abs(loss_naive - loss_vectorized))\n",
    "print('Gradient difference: %f' % grad_difference)"
   ]
  },
  {
   "cell_type": "code",
   "execution_count": 37,
   "metadata": {
    "tags": [
     "code"
    ]
   },
   "outputs": [
    {
     "name": "stdout",
     "output_type": "stream",
     "text": [
      "lr 5.000000e-07 reg 1.000000e+04 train accuracy: 0.202041 val accuracy: 0.200000\n",
      "lr 5.000000e-07 reg 5.000000e+04 train accuracy: 0.200388 val accuracy: 0.204000\n",
      "lr 5.000000e-07 reg 1.000000e+05 train accuracy: 0.206531 val accuracy: 0.188000\n",
      "lr 5.000000e-07 reg 5.000000e+05 train accuracy: 0.211776 val accuracy: 0.228000\n",
      "lr 5.000000e-07 reg 1.000000e+06 train accuracy: 0.205837 val accuracy: 0.218000\n",
      "lr 5.000000e-07 reg 5.000000e+06 train accuracy: 0.260429 val accuracy: 0.259000\n",
      "lr 1.000000e-06 reg 1.000000e+04 train accuracy: 0.239878 val accuracy: 0.239000\n",
      "lr 1.000000e-06 reg 5.000000e+04 train accuracy: 0.229735 val accuracy: 0.231000\n",
      "lr 1.000000e-06 reg 1.000000e+05 train accuracy: 0.234082 val accuracy: 0.229000\n",
      "lr 1.000000e-06 reg 5.000000e+05 train accuracy: 0.235551 val accuracy: 0.243000\n",
      "lr 1.000000e-06 reg 1.000000e+06 train accuracy: 0.255041 val accuracy: 0.247000\n",
      "lr 1.000000e-06 reg 5.000000e+06 train accuracy: 0.333163 val accuracy: 0.350000\n",
      "lr 5.000000e-06 reg 1.000000e+04 train accuracy: 0.287531 val accuracy: 0.307000\n",
      "lr 5.000000e-06 reg 5.000000e+04 train accuracy: 0.288633 val accuracy: 0.287000\n",
      "lr 5.000000e-06 reg 1.000000e+05 train accuracy: 0.293653 val accuracy: 0.301000\n",
      "lr 5.000000e-06 reg 5.000000e+05 train accuracy: 0.329939 val accuracy: 0.336000\n",
      "lr 5.000000e-06 reg 1.000000e+06 train accuracy: 0.320653 val accuracy: 0.332000\n",
      "lr 5.000000e-06 reg 5.000000e+06 train accuracy: 0.263837 val accuracy: 0.274000\n",
      "lr 1.000000e-05 reg 1.000000e+04 train accuracy: 0.248980 val accuracy: 0.248000\n",
      "lr 1.000000e-05 reg 5.000000e+04 train accuracy: 0.289306 val accuracy: 0.290000\n",
      "lr 1.000000e-05 reg 1.000000e+05 train accuracy: 0.309694 val accuracy: 0.305000\n",
      "lr 1.000000e-05 reg 5.000000e+05 train accuracy: 0.214429 val accuracy: 0.214000\n",
      "lr 1.000000e-05 reg 1.000000e+06 train accuracy: 0.249000 val accuracy: 0.275000\n",
      "lr 1.000000e-05 reg 5.000000e+06 train accuracy: 0.154714 val accuracy: 0.153000\n",
      "lr 5.000000e-05 reg 1.000000e+04 train accuracy: 0.286408 val accuracy: 0.290000\n",
      "lr 5.000000e-05 reg 5.000000e+04 train accuracy: 0.187612 val accuracy: 0.197000\n",
      "lr 5.000000e-05 reg 1.000000e+05 train accuracy: 0.187449 val accuracy: 0.190000\n",
      "lr 5.000000e-05 reg 5.000000e+05 train accuracy: 0.187367 val accuracy: 0.192000\n",
      "lr 5.000000e-05 reg 1.000000e+06 train accuracy: 0.165102 val accuracy: 0.142000\n",
      "lr 5.000000e-05 reg 5.000000e+06 train accuracy: 0.101449 val accuracy: 0.096000\n",
      "lr 1.000000e-04 reg 1.000000e+04 train accuracy: 0.218449 val accuracy: 0.215000\n",
      "lr 1.000000e-04 reg 5.000000e+04 train accuracy: 0.260673 val accuracy: 0.265000\n",
      "lr 1.000000e-04 reg 1.000000e+05 train accuracy: 0.234714 val accuracy: 0.252000\n",
      "lr 1.000000e-04 reg 5.000000e+05 train accuracy: 0.147122 val accuracy: 0.150000\n",
      "lr 1.000000e-04 reg 1.000000e+06 train accuracy: 0.100939 val accuracy: 0.072000\n",
      "lr 1.000000e-04 reg 5.000000e+06 train accuracy: 0.095694 val accuracy: 0.089000\n",
      "best validation accuracy achieved during cross-validation: 0.350000\n"
     ]
    }
   ],
   "source": [
    "# Use the validation set to tune hyperparameters (regularization strength and\n",
    "# learning rate). You should experiment with different ranges for the learning\n",
    "# rates and regularization strengths; if you are careful you should be able to\n",
    "# get a classification accuracy of over 0.35 on the validation set.\n",
    "from cs231n.classifiers import Softmax\n",
    "results = {}\n",
    "best_val = -1\n",
    "best_softmax = None\n",
    "\n",
    "learning_rates = [5e-7,1e-6,5e-6,1e-5,5e-5,1e-4]\n",
    "regularization_strengths = [1e4,5e4,1e5,5e5,1e6,5e6]\n",
    "\n",
    "################################################################################\n",
    "# TODO:                                                                        #\n",
    "# Use the validation set to set the learning rate and regularization strength. #\n",
    "# This should be identical to the validation that you did for the SVM; save    #\n",
    "# the best trained softmax classifer in best_softmax.                          #\n",
    "################################################################################\n",
    "# *****START OF YOUR CODE (DO NOT DELETE/MODIFY THIS LINE)*****\n",
    "\n",
    "for lr in learning_rates:\n",
    "    for reg in regularization_strengths:\n",
    "        model = Softmax()\n",
    "        model.train(X_train, y_train, learning_rate=lr, reg=reg, num_iters=100,\n",
    "                    batch_size=200, verbose=False)\n",
    "        y_pred = model.predict(X_train)\n",
    "        train_acc = np.mean(y_pred == y_train)\n",
    "        y_pred = model.predict(X_val)\n",
    "        val_acc = np.mean(y_pred == y_val)\n",
    "        results[(lr,reg)] = (train_acc,val_acc)\n",
    "        \n",
    "        if val_acc > best_val:\n",
    "            best_val = val_acc\n",
    "            best_softmax = model\n",
    "        \n",
    "\n",
    "# *****END OF YOUR CODE (DO NOT DELETE/MODIFY THIS LINE)*****\n",
    "    \n",
    "# Print out results.\n",
    "for lr, reg in sorted(results):\n",
    "    train_accuracy, val_accuracy = results[(lr, reg)]\n",
    "    print('lr %e reg %e train accuracy: %f val accuracy: %f' % (\n",
    "                lr, reg, train_accuracy, val_accuracy))\n",
    "    \n",
    "print('best validation accuracy achieved during cross-validation: %f' % best_val)"
   ]
  },
  {
   "cell_type": "code",
   "execution_count": 38,
   "metadata": {},
   "outputs": [
    {
     "name": "stdout",
     "output_type": "stream",
     "text": [
      "softmax on raw pixels final test set accuracy: 0.353000\n"
     ]
    }
   ],
   "source": [
    "# evaluate on test set\n",
    "# Evaluate the best softmax on test set\n",
    "y_test_pred = best_softmax.predict(X_test)\n",
    "test_accuracy = np.mean(y_test == y_test_pred)\n",
    "print('softmax on raw pixels final test set accuracy: %f' % (test_accuracy, ))"
   ]
  },
  {
   "cell_type": "markdown",
   "metadata": {
    "tags": [
     "pdf-inline"
    ]
   },
   "source": [
    "**Inline Question 2** - *True or False*\n",
    "\n",
    "Suppose the overall training loss is defined as the sum of the per-datapoint loss over all training examples. It is possible to add a new datapoint to a training set that would leave the SVM loss unchanged, but this is not the case with the Softmax classifier loss.\n",
    "\n",
    "$\\color{blue}{\\textit Your Answer:}$\n",
    "\n",
    "TRUE \n",
    "\n",
    "$\\color{blue}{\\textit Your Explanation:}$\n",
    "\n",
    "We can prove the statement by looking at the losses directly. The SVM loss reads\n",
    "\n",
    "$$L_i^{(SVM)} = \\sum_{j \\neq y_i} \\max(0,w_j^T x_i - w_{y_i}^T x_i + \\Delta)$$\n",
    "\n",
    "Suppose $\\Delta >> 1$, then almost any point $x_i$ we add to the dataset will not change the SVM loss. To see this, suppose the score $s_{y_i} = 8$ and $s_j \\in (-10,10)$ for all other $j$. Then, $ -2 \\leq s_j - s_{y_i} \\leq 18$. If we set $\\Delta = 20$, then the data point will not contribute to $L_i$.\n",
    "\n",
    "For the softmax classifier the loss is sensitive to the insertion of any new data point.\n",
    "\n",
    "$$L_i = - s_{y_i} + \\log \\sum_j \\exp (w_j^T x_i)$$\n",
    "\n",
    "This loss is almost always non-zero. The reason is that $\\log \\text{softmax} (s_j) = 0$ iff $\\text{softmax} (s_j) =1$, which only happens if the class predictions are $1$ for one class and exactly $0$ for all others. This almost never happens, since the classifier weights are updated stochastically. Therefore, the Softmax is sensitive to the addition of any new data point. The sensitivity scales as $1/N$, so for large datasets inserting a new point is immaterial.\n"
   ]
  },
  {
   "cell_type": "code",
   "execution_count": 40,
   "metadata": {},
   "outputs": [
    {
     "data": {
      "image/png": "[encoded data removed]",
      "text/plain": [
       "<Figure size 432x288 with 10 Axes>"
      ]
     },
     "metadata": {
      "needs_background": "light"
     },
     "output_type": "display_data"
    }
   ],
   "source": [
    "# Visualize the learned weights for each class\n",
    "w = best_softmax.W[:-1,:] # strip out the bias\n",
    "w = w.reshape(32, 32, 3, 10)\n",
    "\n",
    "w_min, w_max = np.min(w), np.max(w)\n",
    "\n",
    "classes = ['plane', 'car', 'bird', 'cat', 'deer', 'dog', 'frog', 'horse', 'ship', 'truck']\n",
    "for i in range(10):\n",
    "    plt.subplot(2, 5, i + 1)\n",
    "    \n",
    "    # Rescale the weights to be between 0 and 255\n",
    "    wimg = 255.0 * (w[:, :, :, i].squeeze() - w_min) / (w_max - w_min)\n",
    "    plt.imshow(wimg.astype('uint8'))\n",
    "    plt.axis('off')\n",
    "    plt.title(classes[i])"
   ]
  },
  {
   "cell_type": "code",
   "execution_count": null,
   "metadata": {},
   "outputs": [],
   "source": []
  }
 ],
 "metadata": {
  "kernelspec": {
   "display_name": "Python 3",
   "language": "python",
   "name": "python3"
  },
  "language_info": {
   "codemirror_mode": {
    "name": "ipython",
    "version": 3
   },
   "file_extension": ".py",
   "mimetype": "text/x-python",
   "name": "python",
   "nbconvert_exporter": "python",
   "pygments_lexer": "ipython3",
   "version": "3.5.3"
  }
 },
 "nbformat": 4,
 "nbformat_minor": 1
}
